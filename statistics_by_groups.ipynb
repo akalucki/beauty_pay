{
 "cells": [
  {
   "cell_type": "code",
   "execution_count": 5,
   "id": "718bb956-d1c3-4d58-af27-6c536f05f1f0",
   "metadata": {},
   "outputs": [
    {
     "name": "stdout",
     "output_type": "stream",
     "text": [
      "    minority   age  gender credits    beauty  eval division native tenure  \\\n",
      "0        yes  36.0  female    more  0.289916   4.3    upper    yes    yes   \n",
      "1        yes  36.0  female    more  0.289916   3.7    upper    yes    yes   \n",
      "2        yes  36.0  female    more  0.289916   3.6    upper    yes    yes   \n",
      "3        yes  36.0  female    more  0.289916   4.4    upper    yes    yes   \n",
      "4         no  59.0    male    more -0.737732   4.5    upper    yes    yes   \n",
      "..       ...   ...     ...     ...       ...   ...      ...    ...    ...   \n",
      "458       no  37.0    male    more  0.933396   3.5    upper    yes    yes   \n",
      "459       no  58.0  female    more  0.111563   3.5    upper    yes    yes   \n",
      "460       no  42.0    male    more -0.900580   4.0    upper    yes    yes   \n",
      "461       no  39.0    male    more  0.643014   4.3    upper    yes    yes   \n",
      "462       no  51.0  female    more  0.391822   3.0    upper    yes    yes   \n",
      "\n",
      "     students  allstudents  prof     PrimaryLast vismin female single_credit  \\\n",
      "0        24.0         43.0   1.0  Duplicate Case    yes    yes            no   \n",
      "1        86.0        125.0   1.0  Duplicate Case    yes    yes            no   \n",
      "2        76.0        125.0   1.0  Duplicate Case    yes    yes            no   \n",
      "3        77.0        123.0   1.0    Primary Case    yes    yes            no   \n",
      "4        17.0         20.0   2.0  Duplicate Case     no     no            no   \n",
      "..        ...          ...   ...             ...    ...    ...           ...   \n",
      "458      15.0         17.0  40.0    Primary Case     no     no            no   \n",
      "459      26.0         34.0  47.0    Primary Case     no    yes            no   \n",
      "460      45.0         86.0  61.0    Primary Case     no     no            no   \n",
      "461      22.0         29.0  62.0    Primary Case     no     no            no   \n",
      "462      47.0         67.0  69.0    Primary Case     no    yes            no   \n",
      "\n",
      "    upper_division English_speaker tenured_prof  \n",
      "0              yes             yes          yes  \n",
      "1              yes             yes          yes  \n",
      "2              yes             yes          yes  \n",
      "3              yes             yes          yes  \n",
      "4              yes             yes          yes  \n",
      "..             ...             ...          ...  \n",
      "458            yes             yes          yes  \n",
      "459            yes             yes          yes  \n",
      "460            yes             yes          yes  \n",
      "461            yes             yes          yes  \n",
      "462            yes             yes          yes  \n",
      "\n",
      "[463 rows x 19 columns]\n"
     ]
    }
   ],
   "source": [
    "import pandas as pd\n",
    "import numpy\n",
    "import pyreadstat\n",
    "df = pd.read_spss('teachingratings.sav')\n",
    "print(df)"
   ]
  },
  {
   "cell_type": "code",
   "execution_count": 2,
   "id": "471317b0-e1ff-488f-866d-bffec7ffff6e",
   "metadata": {},
   "outputs": [
    {
     "name": "stdout",
     "output_type": "stream",
     "text": [
      "<class 'pandas.core.frame.DataFrame'>\n"
     ]
    }
   ],
   "source": [
    "print(type(df))"
   ]
  },
  {
   "cell_type": "code",
   "execution_count": 27,
   "id": "a0a7e0aa-3335-443d-a446-c02d5db22f89",
   "metadata": {},
   "outputs": [
    {
     "name": "stdout",
     "output_type": "stream",
     "text": [
      "['T', '__abs__', '__add__', '__and__', '__array__', '__array_finalize__', '__array_function__', '__array_interface__', '__array_prepare__', '__array_priority__', '__array_struct__', '__array_ufunc__', '__array_wrap__', '__bool__', '__buffer__', '__class__', '__class_getitem__', '__complex__', '__contains__', '__copy__', '__deepcopy__', '__delattr__', '__delitem__', '__dir__', '__divmod__', '__dlpack__', '__dlpack_device__', '__doc__', '__eq__', '__float__', '__floordiv__', '__format__', '__ge__', '__getattribute__', '__getitem__', '__getstate__', '__gt__', '__hash__', '__iadd__', '__iand__', '__ifloordiv__', '__ilshift__', '__imatmul__', '__imod__', '__imul__', '__index__', '__init__', '__init_subclass__', '__int__', '__invert__', '__ior__', '__ipow__', '__irshift__', '__isub__', '__iter__', '__itruediv__', '__ixor__', '__le__', '__len__', '__lshift__', '__lt__', '__matmul__', '__mod__', '__mul__', '__ne__', '__neg__', '__new__', '__or__', '__pos__', '__pow__', '__radd__', '__rand__', '__rdivmod__', '__reduce__', '__reduce_ex__', '__repr__', '__rfloordiv__', '__rlshift__', '__rmatmul__', '__rmod__', '__rmul__', '__ror__', '__rpow__', '__rrshift__', '__rshift__', '__rsub__', '__rtruediv__', '__rxor__', '__setattr__', '__setitem__', '__setstate__', '__sizeof__', '__str__', '__sub__', '__subclasshook__', '__truediv__', '__xor__', 'all', 'any', 'argmax', 'argmin', 'argpartition', 'argsort', 'astype', 'base', 'byteswap', 'choose', 'clip', 'compress', 'conj', 'conjugate', 'copy', 'ctypes', 'cumprod', 'cumsum', 'data', 'diagonal', 'dot', 'dtype', 'dump', 'dumps', 'fill', 'flags', 'flat', 'flatten', 'getfield', 'imag', 'item', 'itemset', 'itemsize', 'max', 'mean', 'min', 'nbytes', 'ndim', 'newbyteorder', 'nonzero', 'partition', 'prod', 'ptp', 'put', 'ravel', 'real', 'repeat', 'reshape', 'resize', 'round', 'searchsorted', 'setfield', 'setflags', 'shape', 'size', 'sort', 'squeeze', 'std', 'strides', 'sum', 'swapaxes', 'take', 'tobytes', 'tofile', 'tolist', 'tostring', 'trace', 'transpose', 'var', 'view']\n",
      "<built-in method sort of numpy.ndarray object at 0x000001908136FF30>\n",
      "94\n"
     ]
    }
   ],
   "source": [
    "unikqe = df['prof'].unique()\n",
    "print(dir(unikqe))\n",
    "print(unikqe.sort)\n",
    "print(unikqe.size)"
   ]
  },
  {
   "cell_type": "code",
   "execution_count": 12,
   "id": "64b0b1b0-e25d-4a6a-bd0b-eed871797f06",
   "metadata": {},
   "outputs": [
    {
     "name": "stdout",
     "output_type": "stream",
     "text": [
      "Index(['minority', 'age', 'gender', 'credits', 'beauty', 'eval', 'division',\n",
      "       'native', 'tenure', 'students', 'allstudents', 'prof', 'PrimaryLast',\n",
      "       'vismin', 'female', 'single_credit', 'upper_division',\n",
      "       'English_speaker', 'tenured_prof'],\n",
      "      dtype='object')\n"
     ]
    }
   ],
   "source": [
    "print(df.columns)"
   ]
  },
  {
   "cell_type": "code",
   "execution_count": 32,
   "id": "bfbdb51a-5500-4a27-b79c-a144c58353fe",
   "metadata": {},
   "outputs": [
    {
     "name": "stdout",
     "output_type": "stream",
     "text": [
      "      age  eval  gender  prof    beauty\n",
      "0    36.0   4.3  female   1.0  0.289916\n",
      "1    36.0   3.7  female   1.0  0.289916\n",
      "2    36.0   3.6  female   1.0  0.289916\n",
      "3    36.0   4.4  female   1.0  0.289916\n",
      "4    59.0   4.5    male   2.0 -0.737732\n",
      "..    ...   ...     ...   ...       ...\n",
      "458  37.0   3.5    male  40.0  0.933396\n",
      "459  58.0   3.5  female  47.0  0.111563\n",
      "460  42.0   4.0    male  61.0 -0.900580\n",
      "461  39.0   4.3    male  62.0  0.643014\n",
      "462  51.0   3.0  female  69.0  0.391822\n",
      "\n",
      "[463 rows x 5 columns]\n",
      "              age        eval        prof        beauty\n",
      "count  463.000000  463.000000  463.000000  4.630000e+02\n",
      "mean    48.365011    3.998272   45.434125  6.271140e-08\n",
      "std      9.802742    0.554866   27.508902  7.886477e-01\n",
      "min     29.000000    2.100000    1.000000 -1.450494e+00\n",
      "25%     42.000000    3.600000   20.000000 -6.562689e-01\n",
      "50%     48.000000    4.000000   44.000000 -6.801430e-02\n",
      "75%     57.000000    4.400000   70.500000  5.456024e-01\n",
      "max     73.000000    5.000000   94.000000  1.970023e+00\n"
     ]
    }
   ],
   "source": [
    "teaching_features = ['age', 'eval', 'gender', 'prof', 'beauty']\n",
    "X = df[teaching_features]\n",
    "print(X)\n",
    "print(X.describe())"
   ]
  },
  {
   "cell_type": "code",
   "execution_count": 75,
   "id": "0d964bf6-93fe-4a89-90c6-69d7e3b186f1",
   "metadata": {},
   "outputs": [
    {
     "name": "stdout",
     "output_type": "stream",
     "text": [
      "40\n",
      "            index        age       eval      prof     beauty\n",
      "count   40.000000  40.000000  40.000000  40.00000  40.000000\n",
      "mean   258.575000  44.950000   3.785000  47.37500   0.252303\n",
      "std    150.991575   8.935524   0.502073  28.71941   0.843667\n",
      "min      0.000000  29.000000   2.300000   1.00000  -1.450494\n",
      "25%    117.500000  37.750000   3.400000  20.75000  -0.257842\n",
      "50%    284.000000  45.000000   3.800000  50.00000   0.194589\n",
      "75%    386.750000  52.000000   4.075000  70.50000   0.910720\n",
      "max    462.000000  62.000000   4.600000  94.00000   1.970023\n"
     ]
    }
   ],
   "source": [
    "female_instructor = pd.DataFrame({'index':[], 'age':[], 'eval':[], 'gender':[], 'prof':[], 'beauty':[]})\n",
    "for row in X.itertuples():\n",
    "    if row.gender == 'female':\n",
    "        female_instructor.loc[len(female_instructor)] = row\n",
    "female_instructor_clean = female_instructor.drop_duplicates(subset='prof')\n",
    "print(len(female_instructor_clean))\n",
    "print(female_instructor_clean.describe())"
   ]
  },
  {
   "cell_type": "code",
   "execution_count": 80,
   "id": "c93e244d-a1db-4e91-a719-00a2a4d63ca4",
   "metadata": {},
   "outputs": [
    {
     "name": "stdout",
     "output_type": "stream",
     "text": [
      "54\n",
      "            index        age      eval       prof     beauty\n",
      "count   54.000000  54.000000  54.00000  54.000000  54.000000\n",
      "mean   247.129630  49.481481   4.02037  47.592593  -0.033098\n",
      "std    135.037248  10.813585   0.52750  26.435767   0.801559\n",
      "min      4.000000  32.000000   2.20000   2.000000  -1.422919\n",
      "25%    146.750000  42.000000   3.70000  27.250000  -0.702332\n",
      "50%    232.000000  49.500000   4.10000  44.500000  -0.174450\n",
      "75%    359.750000  58.750000   4.37500  70.750000   0.585597\n",
      "max    461.000000  73.000000   4.90000  93.000000   1.774334\n"
     ]
    }
   ],
   "source": [
    "male_instructor = pd.DataFrame({'index':[], 'age':[], 'eval':[], 'gender':[], 'prof':[], 'beauty':[]})\n",
    "for row in X.itertuples():\n",
    "    if row.gender == 'male':\n",
    "        male_instructor.loc[len(male_instructor)] = row\n",
    "male_instructor_clean = male_instructor.drop_duplicates(subset='prof')\n",
    "print(len(male_instructor_clean))\n",
    "print(male_instructor_clean.describe())"
   ]
  },
  {
   "cell_type": "markdown",
   "id": "1c37addc-ab8f-44a3-b704-9dfae432522a",
   "metadata": {},
   "source": [
    "another way to group by."
   ]
  },
  {
   "cell_type": "code",
   "execution_count": 79,
   "id": "8e224502-e149-46a8-8563-725d07adb498",
   "metadata": {},
   "outputs": [
    {
     "name": "stdout",
     "output_type": "stream",
     "text": [
      "Real number of instructors :   94\n"
     ]
    },
    {
     "ename": "TypeError",
     "evalue": "'DataFrameGroupBy' object is not callable",
     "output_type": "error",
     "traceback": [
      "\u001b[1;31m---------------------------------------------------------------------------\u001b[0m",
      "\u001b[1;31mTypeError\u001b[0m                                 Traceback (most recent call last)",
      "Cell \u001b[1;32mIn[79], line 3\u001b[0m\n\u001b[0;32m      1\u001b[0m instructors_clean \u001b[38;5;241m=\u001b[39m X\u001b[38;5;241m.\u001b[39mdrop_duplicates(subset\u001b[38;5;241m=\u001b[39m\u001b[38;5;124m'\u001b[39m\u001b[38;5;124mprof\u001b[39m\u001b[38;5;124m'\u001b[39m)\n\u001b[0;32m      2\u001b[0m \u001b[38;5;28mprint\u001b[39m(\u001b[38;5;124m'\u001b[39m\u001b[38;5;124mReal number of instructors :  \u001b[39m\u001b[38;5;124m'\u001b[39m, \u001b[38;5;28mlen\u001b[39m(instructors_clean))\n\u001b[1;32m----> 3\u001b[0m grouped_instructors \u001b[38;5;241m=\u001b[39m instructors_clean\u001b[38;5;241m.\u001b[39mgroupby(\u001b[38;5;124m'\u001b[39m\u001b[38;5;124mgender\u001b[39m\u001b[38;5;124m'\u001b[39m)(\u001b[38;5;124m'\u001b[39m\u001b[38;5;124mmale\u001b[39m\u001b[38;5;124m'\u001b[39m)\u001b[38;5;241m.\u001b[39magg([\u001b[38;5;124m'\u001b[39m\u001b[38;5;124mmean\u001b[39m\u001b[38;5;124m'\u001b[39m, \u001b[38;5;124m'\u001b[39m\u001b[38;5;124mmedian\u001b[39m\u001b[38;5;124m'\u001b[39m, \u001b[38;5;124m'\u001b[39m\u001b[38;5;124mstd\u001b[39m\u001b[38;5;124m'\u001b[39m, \u001b[38;5;124m'\u001b[39m\u001b[38;5;124mcount\u001b[39m\u001b[38;5;124m'\u001b[39m, \u001b[38;5;124m'\u001b[39m\u001b[38;5;124mmin\u001b[39m\u001b[38;5;124m'\u001b[39m, \u001b[38;5;124m'\u001b[39m\u001b[38;5;124mmax\u001b[39m\u001b[38;5;124m'\u001b[39m])\n",
      "\u001b[1;31mTypeError\u001b[0m: 'DataFrameGroupBy' object is not callable"
     ]
    }
   ],
   "source": [
    "instructors_clean = X.drop_duplicates(subset='prof')\n",
    "print('Real number of instructors :  ', len(instructors_clean))\n",
    "grouped_instructors = instructors_clean.groupby('gender')('male').agg(['mean', 'median', 'std', 'count', 'min', 'max'])"
   ]
  },
  {
   "cell_type": "code",
   "execution_count": null,
   "id": "99fb4014-a470-4372-8d30-b213dcaa6c3a",
   "metadata": {},
   "outputs": [],
   "source": []
  }
 ],
 "metadata": {
  "kernelspec": {
   "display_name": "Python 3 (ipykernel)",
   "language": "python",
   "name": "python3"
  },
  "language_info": {
   "codemirror_mode": {
    "name": "ipython",
    "version": 3
   },
   "file_extension": ".py",
   "mimetype": "text/x-python",
   "name": "python",
   "nbconvert_exporter": "python",
   "pygments_lexer": "ipython3",
   "version": "3.12.4"
  }
 },
 "nbformat": 4,
 "nbformat_minor": 5
}
