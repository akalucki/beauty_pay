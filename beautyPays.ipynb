{
 "cells": [
  {
   "cell_type": "raw",
   "id": "7ccc2c61-6304-47d6-b078-1920eb982d19",
   "metadata": {},
   "source": [
    "Installing librarys\n"
   ]
  },
  {
   "cell_type": "code",
   "execution_count": 21,
   "id": "ef13d31c-cc0e-4aba-9d09-327b083e5830",
   "metadata": {},
   "outputs": [],
   "source": [
    "import pandas as pd\n",
    "import pyreadstat\n",
    "import statistics\n",
    "import numpy as np\n",
    "import matplotlib.pyplot as plt"
   ]
  },
  {
   "cell_type": "code",
   "execution_count": 2,
   "id": "e984b55e-1477-4a11-90a1-5545e215ceb7",
   "metadata": {},
   "outputs": [],
   "source": [
    "df= pd.read_spss('teachingratings.sav')"
   ]
  },
  {
   "cell_type": "code",
   "execution_count": 3,
   "id": "7f60e016-3ac0-4f7d-a226-ad8ca0e05544",
   "metadata": {},
   "outputs": [
    {
     "name": "stdout",
     "output_type": "stream",
     "text": [
      "    minority   age  gender credits    beauty  eval division native tenure  \\\n",
      "0        yes  36.0  female    more  0.289916   4.3    upper    yes    yes   \n",
      "1        yes  36.0  female    more  0.289916   3.7    upper    yes    yes   \n",
      "2        yes  36.0  female    more  0.289916   3.6    upper    yes    yes   \n",
      "3        yes  36.0  female    more  0.289916   4.4    upper    yes    yes   \n",
      "4         no  59.0    male    more -0.737732   4.5    upper    yes    yes   \n",
      "..       ...   ...     ...     ...       ...   ...      ...    ...    ...   \n",
      "458       no  37.0    male    more  0.933396   3.5    upper    yes    yes   \n",
      "459       no  58.0  female    more  0.111563   3.5    upper    yes    yes   \n",
      "460       no  42.0    male    more -0.900580   4.0    upper    yes    yes   \n",
      "461       no  39.0    male    more  0.643014   4.3    upper    yes    yes   \n",
      "462       no  51.0  female    more  0.391822   3.0    upper    yes    yes   \n",
      "\n",
      "     students  allstudents  prof     PrimaryLast vismin female single_credit  \\\n",
      "0        24.0         43.0   1.0  Duplicate Case    yes    yes            no   \n",
      "1        86.0        125.0   1.0  Duplicate Case    yes    yes            no   \n",
      "2        76.0        125.0   1.0  Duplicate Case    yes    yes            no   \n",
      "3        77.0        123.0   1.0    Primary Case    yes    yes            no   \n",
      "4        17.0         20.0   2.0  Duplicate Case     no     no            no   \n",
      "..        ...          ...   ...             ...    ...    ...           ...   \n",
      "458      15.0         17.0  40.0    Primary Case     no     no            no   \n",
      "459      26.0         34.0  47.0    Primary Case     no    yes            no   \n",
      "460      45.0         86.0  61.0    Primary Case     no     no            no   \n",
      "461      22.0         29.0  62.0    Primary Case     no     no            no   \n",
      "462      47.0         67.0  69.0    Primary Case     no    yes            no   \n",
      "\n",
      "    upper_division English_speaker tenured_prof  \n",
      "0              yes             yes          yes  \n",
      "1              yes             yes          yes  \n",
      "2              yes             yes          yes  \n",
      "3              yes             yes          yes  \n",
      "4              yes             yes          yes  \n",
      "..             ...             ...          ...  \n",
      "458            yes             yes          yes  \n",
      "459            yes             yes          yes  \n",
      "460            yes             yes          yes  \n",
      "461            yes             yes          yes  \n",
      "462            yes             yes          yes  \n",
      "\n",
      "[463 rows x 19 columns]\n"
     ]
    }
   ],
   "source": [
    "print(df)"
   ]
  },
  {
   "cell_type": "code",
   "execution_count": 4,
   "id": "31459fc2-424a-4d05-a6c6-5e59414c74ec",
   "metadata": {},
   "outputs": [
    {
     "data": {
      "text/html": [
       "<div>\n",
       "<style scoped>\n",
       "    .dataframe tbody tr th:only-of-type {\n",
       "        vertical-align: middle;\n",
       "    }\n",
       "\n",
       "    .dataframe tbody tr th {\n",
       "        vertical-align: top;\n",
       "    }\n",
       "\n",
       "    .dataframe thead th {\n",
       "        text-align: right;\n",
       "    }\n",
       "</style>\n",
       "<table border=\"1\" class=\"dataframe\">\n",
       "  <thead>\n",
       "    <tr style=\"text-align: right;\">\n",
       "      <th></th>\n",
       "      <th>age</th>\n",
       "      <th>beauty</th>\n",
       "      <th>eval</th>\n",
       "      <th>students</th>\n",
       "      <th>allstudents</th>\n",
       "      <th>prof</th>\n",
       "    </tr>\n",
       "  </thead>\n",
       "  <tbody>\n",
       "    <tr>\n",
       "      <th>count</th>\n",
       "      <td>463.000000</td>\n",
       "      <td>4.630000e+02</td>\n",
       "      <td>463.000000</td>\n",
       "      <td>463.000000</td>\n",
       "      <td>463.000000</td>\n",
       "      <td>463.000000</td>\n",
       "    </tr>\n",
       "    <tr>\n",
       "      <th>mean</th>\n",
       "      <td>48.365011</td>\n",
       "      <td>6.271140e-08</td>\n",
       "      <td>3.998272</td>\n",
       "      <td>36.624190</td>\n",
       "      <td>55.177106</td>\n",
       "      <td>45.434125</td>\n",
       "    </tr>\n",
       "    <tr>\n",
       "      <th>std</th>\n",
       "      <td>9.802742</td>\n",
       "      <td>7.886477e-01</td>\n",
       "      <td>0.554866</td>\n",
       "      <td>45.018481</td>\n",
       "      <td>75.072800</td>\n",
       "      <td>27.508902</td>\n",
       "    </tr>\n",
       "    <tr>\n",
       "      <th>min</th>\n",
       "      <td>29.000000</td>\n",
       "      <td>-1.450494e+00</td>\n",
       "      <td>2.100000</td>\n",
       "      <td>5.000000</td>\n",
       "      <td>8.000000</td>\n",
       "      <td>1.000000</td>\n",
       "    </tr>\n",
       "    <tr>\n",
       "      <th>25%</th>\n",
       "      <td>42.000000</td>\n",
       "      <td>-6.562689e-01</td>\n",
       "      <td>3.600000</td>\n",
       "      <td>15.000000</td>\n",
       "      <td>19.000000</td>\n",
       "      <td>20.000000</td>\n",
       "    </tr>\n",
       "    <tr>\n",
       "      <th>50%</th>\n",
       "      <td>48.000000</td>\n",
       "      <td>-6.801430e-02</td>\n",
       "      <td>4.000000</td>\n",
       "      <td>23.000000</td>\n",
       "      <td>29.000000</td>\n",
       "      <td>44.000000</td>\n",
       "    </tr>\n",
       "    <tr>\n",
       "      <th>75%</th>\n",
       "      <td>57.000000</td>\n",
       "      <td>5.456024e-01</td>\n",
       "      <td>4.400000</td>\n",
       "      <td>40.000000</td>\n",
       "      <td>60.000000</td>\n",
       "      <td>70.500000</td>\n",
       "    </tr>\n",
       "    <tr>\n",
       "      <th>max</th>\n",
       "      <td>73.000000</td>\n",
       "      <td>1.970023e+00</td>\n",
       "      <td>5.000000</td>\n",
       "      <td>380.000000</td>\n",
       "      <td>581.000000</td>\n",
       "      <td>94.000000</td>\n",
       "    </tr>\n",
       "  </tbody>\n",
       "</table>\n",
       "</div>"
      ],
      "text/plain": [
       "              age        beauty        eval    students  allstudents  \\\n",
       "count  463.000000  4.630000e+02  463.000000  463.000000   463.000000   \n",
       "mean    48.365011  6.271140e-08    3.998272   36.624190    55.177106   \n",
       "std      9.802742  7.886477e-01    0.554866   45.018481    75.072800   \n",
       "min     29.000000 -1.450494e+00    2.100000    5.000000     8.000000   \n",
       "25%     42.000000 -6.562689e-01    3.600000   15.000000    19.000000   \n",
       "50%     48.000000 -6.801430e-02    4.000000   23.000000    29.000000   \n",
       "75%     57.000000  5.456024e-01    4.400000   40.000000    60.000000   \n",
       "max     73.000000  1.970023e+00    5.000000  380.000000   581.000000   \n",
       "\n",
       "             prof  \n",
       "count  463.000000  \n",
       "mean    45.434125  \n",
       "std     27.508902  \n",
       "min      1.000000  \n",
       "25%     20.000000  \n",
       "50%     44.000000  \n",
       "75%     70.500000  \n",
       "max     94.000000  "
      ]
     },
     "execution_count": 4,
     "metadata": {},
     "output_type": "execute_result"
    }
   ],
   "source": [
    "df.describe()"
   ]
  },
  {
   "cell_type": "code",
   "execution_count": 5,
   "id": "0026e785-80e6-49b0-8838-5915078068b9",
   "metadata": {},
   "outputs": [
    {
     "name": "stdout",
     "output_type": "stream",
     "text": [
      "minority\n"
     ]
    }
   ],
   "source": [
    "print(statistics.mode(df))"
   ]
  },
  {
   "cell_type": "code",
   "execution_count": 19,
   "id": "9a37b6d1-ba3b-4fe4-8542-e061f5420db5",
   "metadata": {},
   "outputs": [
    {
     "data": {
      "text/html": [
       "<div>\n",
       "<style scoped>\n",
       "    .dataframe tbody tr th:only-of-type {\n",
       "        vertical-align: middle;\n",
       "    }\n",
       "\n",
       "    .dataframe tbody tr th {\n",
       "        vertical-align: top;\n",
       "    }\n",
       "\n",
       "    .dataframe thead th {\n",
       "        text-align: right;\n",
       "    }\n",
       "</style>\n",
       "<table border=\"1\" class=\"dataframe\">\n",
       "  <thead>\n",
       "    <tr style=\"text-align: right;\">\n",
       "      <th></th>\n",
       "      <th>0</th>\n",
       "      <th>1</th>\n",
       "      <th>2</th>\n",
       "      <th>3</th>\n",
       "      <th>4</th>\n",
       "      <th>5</th>\n",
       "    </tr>\n",
       "  </thead>\n",
       "  <tbody>\n",
       "    <tr>\n",
       "      <th>0</th>\n",
       "      <td>0.289916</td>\n",
       "      <td>1.0</td>\n",
       "      <td>4.3</td>\n",
       "      <td>24.0</td>\n",
       "      <td>36.0</td>\n",
       "      <td>43.0</td>\n",
       "    </tr>\n",
       "    <tr>\n",
       "      <th>1</th>\n",
       "      <td>0.289916</td>\n",
       "      <td>1.0</td>\n",
       "      <td>3.7</td>\n",
       "      <td>36.0</td>\n",
       "      <td>86.0</td>\n",
       "      <td>125.0</td>\n",
       "    </tr>\n",
       "    <tr>\n",
       "      <th>2</th>\n",
       "      <td>0.289916</td>\n",
       "      <td>1.0</td>\n",
       "      <td>3.6</td>\n",
       "      <td>36.0</td>\n",
       "      <td>76.0</td>\n",
       "      <td>125.0</td>\n",
       "    </tr>\n",
       "    <tr>\n",
       "      <th>3</th>\n",
       "      <td>0.289916</td>\n",
       "      <td>1.0</td>\n",
       "      <td>4.4</td>\n",
       "      <td>36.0</td>\n",
       "      <td>77.0</td>\n",
       "      <td>123.0</td>\n",
       "    </tr>\n",
       "    <tr>\n",
       "      <th>4</th>\n",
       "      <td>-0.737732</td>\n",
       "      <td>2.0</td>\n",
       "      <td>4.5</td>\n",
       "      <td>17.0</td>\n",
       "      <td>20.0</td>\n",
       "      <td>59.0</td>\n",
       "    </tr>\n",
       "    <tr>\n",
       "      <th>...</th>\n",
       "      <td>...</td>\n",
       "      <td>...</td>\n",
       "      <td>...</td>\n",
       "      <td>...</td>\n",
       "      <td>...</td>\n",
       "      <td>...</td>\n",
       "    </tr>\n",
       "    <tr>\n",
       "      <th>458</th>\n",
       "      <td>0.933396</td>\n",
       "      <td>3.5</td>\n",
       "      <td>15.0</td>\n",
       "      <td>17.0</td>\n",
       "      <td>37.0</td>\n",
       "      <td>40.0</td>\n",
       "    </tr>\n",
       "    <tr>\n",
       "      <th>459</th>\n",
       "      <td>0.111563</td>\n",
       "      <td>3.5</td>\n",
       "      <td>26.0</td>\n",
       "      <td>34.0</td>\n",
       "      <td>47.0</td>\n",
       "      <td>58.0</td>\n",
       "    </tr>\n",
       "    <tr>\n",
       "      <th>460</th>\n",
       "      <td>-0.900580</td>\n",
       "      <td>4.0</td>\n",
       "      <td>42.0</td>\n",
       "      <td>45.0</td>\n",
       "      <td>61.0</td>\n",
       "      <td>86.0</td>\n",
       "    </tr>\n",
       "    <tr>\n",
       "      <th>461</th>\n",
       "      <td>0.643014</td>\n",
       "      <td>4.3</td>\n",
       "      <td>22.0</td>\n",
       "      <td>29.0</td>\n",
       "      <td>39.0</td>\n",
       "      <td>62.0</td>\n",
       "    </tr>\n",
       "    <tr>\n",
       "      <th>462</th>\n",
       "      <td>0.391822</td>\n",
       "      <td>3.0</td>\n",
       "      <td>47.0</td>\n",
       "      <td>51.0</td>\n",
       "      <td>67.0</td>\n",
       "      <td>69.0</td>\n",
       "    </tr>\n",
       "  </tbody>\n",
       "</table>\n",
       "<p>463 rows × 6 columns</p>\n",
       "</div>"
      ],
      "text/plain": [
       "            0    1     2     3     4      5\n",
       "0    0.289916  1.0   4.3  24.0  36.0   43.0\n",
       "1    0.289916  1.0   3.7  36.0  86.0  125.0\n",
       "2    0.289916  1.0   3.6  36.0  76.0  125.0\n",
       "3    0.289916  1.0   4.4  36.0  77.0  123.0\n",
       "4   -0.737732  2.0   4.5  17.0  20.0   59.0\n",
       "..        ...  ...   ...   ...   ...    ...\n",
       "458  0.933396  3.5  15.0  17.0  37.0   40.0\n",
       "459  0.111563  3.5  26.0  34.0  47.0   58.0\n",
       "460 -0.900580  4.0  42.0  45.0  61.0   86.0\n",
       "461  0.643014  4.3  22.0  29.0  39.0   62.0\n",
       "462  0.391822  3.0  47.0  51.0  67.0   69.0\n",
       "\n",
       "[463 rows x 6 columns]"
      ]
     },
     "execution_count": 19,
     "metadata": {},
     "output_type": "execute_result"
    }
   ],
   "source": [
    "df.mode(axis='columns',  numeric_only=True)"
   ]
  },
  {
   "cell_type": "code",
   "execution_count": 5,
   "id": "647d5dc9-e887-4a74-b662-7fa1cd014e96",
   "metadata": {},
   "outputs": [
    {
     "data": {
      "text/plain": [
       "Index(['minority', 'age', 'gender', 'credits', 'beauty', 'eval', 'division',\n",
       "       'native', 'tenure', 'students', 'allstudents', 'prof', 'PrimaryLast',\n",
       "       'vismin', 'female', 'single_credit', 'upper_division',\n",
       "       'English_speaker', 'tenured_prof'],\n",
       "      dtype='object')"
      ]
     },
     "execution_count": 5,
     "metadata": {},
     "output_type": "execute_result"
    }
   ],
   "source": [
    "df.columns"
   ]
  },
  {
   "cell_type": "code",
   "execution_count": 6,
   "id": "e53b8edd-c005-485f-9d03-20b7984bd318",
   "metadata": {},
   "outputs": [],
   "source": [
    "teaching_ratings_features = ['age', 'gender', 'beauty', 'eval', 'tenure', 'students']"
   ]
  },
  {
   "cell_type": "code",
   "execution_count": 7,
   "id": "872205af-bb2e-4b38-b75f-dd0ba61acf28",
   "metadata": {},
   "outputs": [],
   "source": [
    "X = df[teaching_ratings_features]"
   ]
  },
  {
   "cell_type": "code",
   "execution_count": 8,
   "id": "8538f6dc-7b45-4a6d-b9bc-21e2f8ef5e05",
   "metadata": {},
   "outputs": [
    {
     "name": "stdout",
     "output_type": "stream",
     "text": [
      "      age  gender    beauty  eval tenure  students\n",
      "0    36.0  female  0.289916   4.3    yes      24.0\n",
      "1    36.0  female  0.289916   3.7    yes      86.0\n",
      "2    36.0  female  0.289916   3.6    yes      76.0\n",
      "3    36.0  female  0.289916   4.4    yes      77.0\n",
      "4    59.0    male -0.737732   4.5    yes      17.0\n",
      "..    ...     ...       ...   ...    ...       ...\n",
      "458  37.0    male  0.933396   3.5    yes      15.0\n",
      "459  58.0  female  0.111563   3.5    yes      26.0\n",
      "460  42.0    male -0.900580   4.0    yes      45.0\n",
      "461  39.0    male  0.643014   4.3    yes      22.0\n",
      "462  51.0  female  0.391822   3.0    yes      47.0\n",
      "\n",
      "[463 rows x 6 columns]\n"
     ]
    }
   ],
   "source": [
    "print(X)"
   ]
  },
  {
   "cell_type": "code",
   "execution_count": 9,
   "id": "39a44577-8083-43d1-8e44-8dbfa529dede",
   "metadata": {},
   "outputs": [
    {
     "data": {
      "text/html": [
       "<div>\n",
       "<style scoped>\n",
       "    .dataframe tbody tr th:only-of-type {\n",
       "        vertical-align: middle;\n",
       "    }\n",
       "\n",
       "    .dataframe tbody tr th {\n",
       "        vertical-align: top;\n",
       "    }\n",
       "\n",
       "    .dataframe thead th {\n",
       "        text-align: right;\n",
       "    }\n",
       "</style>\n",
       "<table border=\"1\" class=\"dataframe\">\n",
       "  <thead>\n",
       "    <tr style=\"text-align: right;\">\n",
       "      <th></th>\n",
       "      <th>age</th>\n",
       "      <th>beauty</th>\n",
       "      <th>eval</th>\n",
       "      <th>students</th>\n",
       "    </tr>\n",
       "  </thead>\n",
       "  <tbody>\n",
       "    <tr>\n",
       "      <th>count</th>\n",
       "      <td>463.000000</td>\n",
       "      <td>4.630000e+02</td>\n",
       "      <td>463.000000</td>\n",
       "      <td>463.000000</td>\n",
       "    </tr>\n",
       "    <tr>\n",
       "      <th>mean</th>\n",
       "      <td>48.365011</td>\n",
       "      <td>6.271140e-08</td>\n",
       "      <td>3.998272</td>\n",
       "      <td>36.624190</td>\n",
       "    </tr>\n",
       "    <tr>\n",
       "      <th>std</th>\n",
       "      <td>9.802742</td>\n",
       "      <td>7.886477e-01</td>\n",
       "      <td>0.554866</td>\n",
       "      <td>45.018481</td>\n",
       "    </tr>\n",
       "    <tr>\n",
       "      <th>min</th>\n",
       "      <td>29.000000</td>\n",
       "      <td>-1.450494e+00</td>\n",
       "      <td>2.100000</td>\n",
       "      <td>5.000000</td>\n",
       "    </tr>\n",
       "    <tr>\n",
       "      <th>25%</th>\n",
       "      <td>42.000000</td>\n",
       "      <td>-6.562689e-01</td>\n",
       "      <td>3.600000</td>\n",
       "      <td>15.000000</td>\n",
       "    </tr>\n",
       "    <tr>\n",
       "      <th>50%</th>\n",
       "      <td>48.000000</td>\n",
       "      <td>-6.801430e-02</td>\n",
       "      <td>4.000000</td>\n",
       "      <td>23.000000</td>\n",
       "    </tr>\n",
       "    <tr>\n",
       "      <th>75%</th>\n",
       "      <td>57.000000</td>\n",
       "      <td>5.456024e-01</td>\n",
       "      <td>4.400000</td>\n",
       "      <td>40.000000</td>\n",
       "    </tr>\n",
       "    <tr>\n",
       "      <th>max</th>\n",
       "      <td>73.000000</td>\n",
       "      <td>1.970023e+00</td>\n",
       "      <td>5.000000</td>\n",
       "      <td>380.000000</td>\n",
       "    </tr>\n",
       "  </tbody>\n",
       "</table>\n",
       "</div>"
      ],
      "text/plain": [
       "              age        beauty        eval    students\n",
       "count  463.000000  4.630000e+02  463.000000  463.000000\n",
       "mean    48.365011  6.271140e-08    3.998272   36.624190\n",
       "std      9.802742  7.886477e-01    0.554866   45.018481\n",
       "min     29.000000 -1.450494e+00    2.100000    5.000000\n",
       "25%     42.000000 -6.562689e-01    3.600000   15.000000\n",
       "50%     48.000000 -6.801430e-02    4.000000   23.000000\n",
       "75%     57.000000  5.456024e-01    4.400000   40.000000\n",
       "max     73.000000  1.970023e+00    5.000000  380.000000"
      ]
     },
     "execution_count": 9,
     "metadata": {},
     "output_type": "execute_result"
    }
   ],
   "source": [
    "X.describe()"
   ]
  },
  {
   "cell_type": "code",
   "execution_count": 11,
   "id": "f759f059-2f1a-46f0-9687-7f899814d4a7",
   "metadata": {},
   "outputs": [
    {
     "name": "stdout",
     "output_type": "stream",
     "text": [
      "<class 'pandas.core.frame.DataFrame'>\n",
      "RangeIndex: 463 entries, 0 to 462\n",
      "Data columns (total 6 columns):\n",
      " #   Column    Non-Null Count  Dtype  \n",
      "---  ------    --------------  -----  \n",
      " 0   age       463 non-null    float64\n",
      " 1   gender    463 non-null    object \n",
      " 2   beauty    463 non-null    float64\n",
      " 3   eval      463 non-null    float64\n",
      " 4   tenure    463 non-null    object \n",
      " 5   students  463 non-null    float64\n",
      "dtypes: float64(4), object(2)\n",
      "memory usage: 21.8+ KB\n"
     ]
    }
   ],
   "source": [
    "X.info()"
   ]
  },
  {
   "cell_type": "code",
   "execution_count": 15,
   "id": "1200b100-b4ef-4e6a-95eb-0b371bf62bb1",
   "metadata": {},
   "outputs": [
    {
     "name": "stdout",
     "output_type": "stream",
     "text": [
      "48.0\n"
     ]
    }
   ],
   "source": [
    "age_median= df.age\n",
    "age_median_end = np.median(age_median)\n",
    "print(age_median_end)"
   ]
  },
  {
   "cell_type": "code",
   "execution_count": 20,
   "id": "7c64049d-4fa1-4534-9e3c-a244659fa021",
   "metadata": {},
   "outputs": [
    {
     "name": "stdout",
     "output_type": "stream",
     "text": [
      "23.0\n"
     ]
    }
   ],
   "source": [
    "students_all = df.students\n",
    "students_all = np.median(students_all)\n",
    "print(students_all)"
   ]
  },
  {
   "cell_type": "code",
   "execution_count": 24,
   "id": "0d24d21d-7648-47ce-b9a6-cc360d7af3e7",
   "metadata": {},
   "outputs": [
    {
     "name": "stdout",
     "output_type": "stream",
     "text": [
      "0      0.289916\n",
      "1      0.289916\n",
      "2      0.289916\n",
      "3      0.289916\n",
      "4     -0.737732\n",
      "         ...   \n",
      "458    0.933396\n",
      "459    0.111563\n",
      "460   -0.900580\n",
      "461    0.643014\n",
      "462    0.391822\n",
      "Name: beauty, Length: 463, dtype: float64\n"
     ]
    },
    {
     "data": {
      "image/png": "[encoded data removed]",
      "text/plain": [
       "<Figure size 640x480 with 1 Axes>"
      ]
     },
     "metadata": {},
     "output_type": "display_data"
    }
   ],
   "source": [
    "beauty = df.beauty\n",
    "print(beauty)\n",
    "plt.hist(beauty)\n",
    "plt.show()"
   ]
  },
  {
   "cell_type": "code",
   "execution_count": null,
   "id": "4e1e6df6-0f86-4f8a-8bf5-500289796f28",
   "metadata": {},
   "outputs": [],
   "source": []
  }
 ],
 "metadata": {
  "kernelspec": {
   "display_name": "Python 3 (ipykernel)",
   "language": "python",
   "name": "python3"
  },
  "language_info": {
   "codemirror_mode": {
    "name": "ipython",
    "version": 3
   },
   "file_extension": ".py",
   "mimetype": "text/x-python",
   "name": "python",
   "nbconvert_exporter": "python",
   "pygments_lexer": "ipython3",
   "version": "3.12.4"
  }
 },
 "nbformat": 4,
 "nbformat_minor": 5
}
